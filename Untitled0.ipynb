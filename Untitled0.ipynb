{
  "nbformat": 4,
  "nbformat_minor": 0,
  "metadata": {
    "colab": {
      "provenance": [],
      "toc_visible": true,
      "authorship_tag": "ABX9TyMKiFOn/UEUGeN+XyxSGcWe",
      "include_colab_link": true
    },
    "kernelspec": {
      "name": "python3",
      "display_name": "Python 3"
    },
    "language_info": {
      "name": "python"
    }
  },
  "cells": [
    {
      "cell_type": "markdown",
      "metadata": {
        "id": "view-in-github",
        "colab_type": "text"
      },
      "source": [
        "<a href=\"https://colab.research.google.com/github/JoaquinRodrigoMermaRoque/RN-NUEVO/blob/main/Untitled0.ipynb\" target=\"_parent\"><img src=\"https://colab.research.google.com/assets/colab-badge.svg\" alt=\"Open In Colab\"/></a>"
      ]
    },
    {
      "cell_type": "code",
      "source": [
        "# prompt: Generar un còdigo que realice la sumatoria de los nùmeros 1 hasta el cien de manera creciente y otra parte que los sume de del 1 al 100 pero con una tasa que vaya aumentando de 1 en 1.\n",
        "\n",
        "# Sumatoria de 1 a 100 de manera creciente\n",
        "suma_creciente = 0\n",
        "for i in range(1, 101):\n",
        "  suma_creciente += i\n",
        "\n",
        "print(\"La sumatoria de 1 a 100 de manera creciente es:\", suma_creciente)\n",
        "\n",
        "# Sumatoria de 1 a 100 con una tasa que aumenta de 1 en 1\n",
        "suma_tasa = 0\n",
        "tasa = 1\n",
        "for i in range(1, 101):\n",
        "  suma_tasa += i * tasa\n",
        "  tasa += 1\n",
        "\n",
        "print(\"La sumatoria de 1 a 100 con una tasa creciente es:\", suma_tasa)\n"
      ],
      "metadata": {
        "colab": {
          "base_uri": "https://localhost:8080/"
        },
        "id": "K_Mg3f8xDabL",
        "outputId": "ab7dac99-c21f-453d-ab47-626d441da188"
      },
      "execution_count": 10,
      "outputs": [
        {
          "output_type": "stream",
          "name": "stdout",
          "text": [
            "La sumatoria de 1 a 100 de manera creciente es: 5050\n",
            "La sumatoria de 1 a 100 con una tasa creciente es: 338350\n"
          ]
        }
      ]
    }
  ]
}